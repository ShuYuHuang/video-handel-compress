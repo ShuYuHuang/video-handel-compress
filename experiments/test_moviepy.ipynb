{
 "cells": [
  {
   "cell_type": "code",
   "execution_count": null,
   "id": "aa8420e3",
   "metadata": {},
   "outputs": [],
   "source": [
    "# !pip install moviepy"
   ]
  },
  {
   "cell_type": "code",
   "execution_count": null,
   "id": "fbc8df02",
   "metadata": {},
   "outputs": [],
   "source": [
    "import moviepy.editor as mpy\n",
    "from glob import glob\n",
    "import re"
   ]
  },
  {
   "cell_type": "code",
   "execution_count": null,
   "id": "7892930c",
   "metadata": {},
   "outputs": [],
   "source": [
    "SUFFIX_LIST = ['.mkv', '.mp4', '.mov']\n",
    "DATA_DIR = '/project/ta-shared-ii/video-handel-compress/data'\n",
    "all_files = glob(DATA_DIR+'/*.*')\n",
    "vfiles = []\n",
    "for f in all_files:\n",
    "    if re.findall(fr'{\"|\".join(SUFFIX_LIST)}',f):\n",
    "        vfiles.append(f)\n",
    "tfiles = list(\n",
    "    map(\n",
    "        lambda x: re.sub(f'{\"|\".join(SUFFIX_LIST)}', '.png', x),\n",
    "        vfiles\n",
    "    )\n",
    ")\n",
    "list(zip(vfiles,tfiles))[:5]"
   ]
  },
  {
   "cell_type": "code",
   "execution_count": null,
   "id": "e7f5f337",
   "metadata": {},
   "outputs": [],
   "source": [
    "ii=0\n",
    "\n",
    "# video clip\n",
    "vclip = mpy.VideoFileClip(vfiles[ii])\n",
    "# watermark clip\n",
    "wmclip = mpy.ImageClip(DATA_DIR+'/watermark.png', duration=vclip.duration)\n",
    "# title clip\n",
    "tclip = mpy.ImageClip(tfiles[ii], duration=3.5)\n",
    "\n",
    "vclip = mpy.CompositeVideoClip([vclip, wmclip])  # Overlay watermark on video\n",
    "clip = mpy.concatenate([wmclip, vclip])  # concatenate title"
   ]
  },
  {
   "cell_type": "code",
   "execution_count": null,
   "id": "0ae1c90b",
   "metadata": {},
   "outputs": [],
   "source": [
    "ii=0\n",
    "\n",
    "tclip = mpy.ImageClip(tfiles[ii], duration=3.5)"
   ]
  },
  {
   "cell_type": "code",
   "execution_count": null,
   "id": "27ff4a4a",
   "metadata": {},
   "outputs": [],
   "source": [
    "tclip.write_videofile(f\"{vfiles[ii].split('/')[-1][:-4]}_title.mp4\", fps=30)"
   ]
  },
  {
   "cell_type": "code",
   "execution_count": null,
   "id": "c429bd2a",
   "metadata": {},
   "outputs": [],
   "source": [
    "clip.write_videofile(f\"{vfiles[ii].split('/')[-1][:-4]}.mp4\",fps=30) "
   ]
  },
  {
   "cell_type": "code",
   "execution_count": null,
   "id": "b298330e",
   "metadata": {},
   "outputs": [],
   "source": [
    "tt = \"01:00\"\n",
    "mpy.ipython_display(vclip,\n",
    "                    t=int(tt.split(\":\")[0])*60\\\n",
    "                    +int(tt.split(\":\")[1]))"
   ]
  }
 ],
 "metadata": {
  "kernelspec": {
   "display_name": "Python 3 (ipykernel)",
   "language": "python",
   "name": "python3"
  },
  "language_info": {
   "codemirror_mode": {
    "name": "ipython",
    "version": 3
   },
   "file_extension": ".py",
   "mimetype": "text/x-python",
   "name": "python",
   "nbconvert_exporter": "python",
   "pygments_lexer": "ipython3",
   "version": "3.7.12"
  }
 },
 "nbformat": 4,
 "nbformat_minor": 5
}
