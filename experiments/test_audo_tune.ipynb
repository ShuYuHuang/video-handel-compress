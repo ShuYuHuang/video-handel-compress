{
 "cells": [
  {
   "cell_type": "code",
   "execution_count": null,
   "id": "5140fc0d",
   "metadata": {},
   "outputs": [],
   "source": [
    "import os\n",
    "import re\n",
    "from glob import glob\n",
    "\n",
    "import moviepy.editor as mpy  # for title clip\n",
    "import ffmpeg  # watermark, concatenate (w/ for fade-in, out), produce output\n",
    "\n",
    "SUFFIX_LIST = ['.mkv', '.mp4', '.mov']\n",
    "\n",
    "tmp = input(\"Type video directory:\")\n",
    "if tmp == '':\n",
    "    DATA_DIR = '/project/ta-shared-ii/video-handel-compress/data'\n",
    "else:\n",
    "    DATA_DIR = tmp\n",
    "\n",
    "tmp = input(\"Type output directory:\")\n",
    "if tmp == '':\n",
    "    OUTPUT_DIR = '/project/ta-shared-ii/video-handel-compress/out_new'\n",
    "else:\n",
    "    OUTPUT_DIR = tmp\n",
    "\n",
    "print('-----Create temperary folder and output folder')\n",
    "os.makedirs(OUTPUT_DIR, exist_ok=True)\n",
    "os.makedirs('tmp',exist_ok=True)\n",
    "TMP_DIR = 'tmp'\n",
    "\n",
    "print('-----List all files from DATA_DIR with suffix in SUFFIX_LIST, find their title picture in \".png\" format')\n",
    "SUFFIX_LIST = ['.mkv', '.mp4', '.mov']\n",
    "all_files = glob(DATA_DIR+'/*.*')\n",
    "vfiles = []\n",
    "for f in all_files:\n",
    "    if re.findall(fr'{\"|\".join(SUFFIX_LIST)}',f):\n",
    "        vfiles.append(f)\n",
    "tfiles = list(\n",
    "    map(\n",
    "        lambda x: re.sub(f'{\"|\".join(SUFFIX_LIST)}', '.png', x),\n",
    "        vfiles\n",
    "    )\n",
    ")\n",
    "\n",
    "chapters = list(\n",
    "    map(\n",
    "        lambda x: x.split('/')[-1][:-4],\n",
    "        vfiles\n",
    "    )\n",
    ")"
   ]
  },
  {
   "cell_type": "code",
   "execution_count": null,
   "id": "ea15cb5c",
   "metadata": {},
   "outputs": [],
   "source": [
    "np.random.random()"
   ]
  },
  {
   "cell_type": "code",
   "execution_count": null,
   "id": "56061486",
   "metadata": {},
   "outputs": [],
   "source": [
    "make_frame = lambda t: 0.0*t\n",
    "dummy_audio = mpy.AudioClip(make_frame, duration=3.5, fps=44100)\n",
    "cpright = mpy.ImageClip(f'copyright.png', duration=3.5)\n",
    "cpright = cpright.set_audio(dummy_audio)"
   ]
  },
  {
   "cell_type": "code",
   "execution_count": null,
   "id": "936e5ac2",
   "metadata": {},
   "outputs": [],
   "source": [
    "cpright.write_videofile('aia_cpright.mkv', codec='libx264', fps=30, bitrate='2500K', audio=True)"
   ]
  },
  {
   "cell_type": "code",
   "execution_count": null,
   "id": "5b3cb6a7",
   "metadata": {},
   "outputs": [],
   "source": [
    "!ffmpeg -i aia_cpright.mkv"
   ]
  },
  {
   "cell_type": "code",
   "execution_count": null,
   "id": "fc0c0746",
   "metadata": {},
   "outputs": [],
   "source": [
    "dummy_audio.write_audiofile('testaud.mp3', fps=44100)"
   ]
  },
  {
   "cell_type": "code",
   "execution_count": null,
   "id": "0d55f82b",
   "metadata": {},
   "outputs": [],
   "source": [
    "!ffmpeg -i testaud.mp3"
   ]
  },
  {
   "cell_type": "code",
   "execution_count": null,
   "id": "e975ee60",
   "metadata": {},
   "outputs": [],
   "source": [
    "inp = ffmpeg.input('test.mkv')"
   ]
  },
  {
   "cell_type": "code",
   "execution_count": null,
   "id": "35342480",
   "metadata": {},
   "outputs": [],
   "source": [
    "aa1=inp.filter('volumedetect')"
   ]
  },
  {
   "cell_type": "code",
   "execution_count": null,
   "id": "e788983c",
   "metadata": {},
   "outputs": [],
   "source": [
    "import moviepy.editor as mp\n",
    "clip = mp.VideoFileClip(\"test.mkv\")\n"
   ]
  },
  {
   "cell_type": "code",
   "execution_count": null,
   "id": "5e6d53d2",
   "metadata": {},
   "outputs": [],
   "source": [
    "!ffmpeg -i test.mkv -filter:a \"dynaudnorm=p=0.9:s=5\" out.mkv"
   ]
  },
  {
   "cell_type": "code",
   "execution_count": null,
   "id": "20f62b40",
   "metadata": {},
   "outputs": [],
   "source": [
    "\n",
    "a=(ffmpeg\n",
    "    .input('test.mkv')\n",
    "    .filter('volumedetect')\n",
    "    .output('-', format='null')\n",
    "    .run())"
   ]
  },
  {
   "cell_type": "code",
   "execution_count": null,
   "id": "1fa48238",
   "metadata": {},
   "outputs": [],
   "source": []
  },
  {
   "cell_type": "code",
   "execution_count": null,
   "id": "178c76c8",
   "metadata": {},
   "outputs": [],
   "source": []
  }
 ],
 "metadata": {
  "kernelspec": {
   "display_name": "Python 3 (ipykernel)",
   "language": "python",
   "name": "python3"
  },
  "language_info": {
   "codemirror_mode": {
    "name": "ipython",
    "version": 3
   },
   "file_extension": ".py",
   "mimetype": "text/x-python",
   "name": "python",
   "nbconvert_exporter": "python",
   "pygments_lexer": "ipython3",
   "version": "3.7.12"
  }
 },
 "nbformat": 4,
 "nbformat_minor": 5
}
