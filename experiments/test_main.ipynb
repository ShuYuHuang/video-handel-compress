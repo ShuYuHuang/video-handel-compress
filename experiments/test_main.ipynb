{
 "cells": [
  {
   "cell_type": "code",
   "execution_count": null,
   "id": "56ece138",
   "metadata": {},
   "outputs": [],
   "source": [
    "import os\n",
    "import re\n",
    "from glob import glob\n",
    "\n",
    "import moviepy.editor as mpy  # for title clip\n",
    "import ffmpeg  # watermark, concatenate (w/ for fade-in, out), produce output\n",
    "\n",
    "SUFFIX_LIST = ['.mkv', '.mp4', '.mov']\n",
    "\n",
    "tmp = input(\"Type video directory:\")\n",
    "if tmp == '':\n",
    "    DATA_DIR = '/project/ta-shared-ii/video-handel-compress/data'\n",
    "else:\n",
    "    DATA_DIR = tmp\n",
    "\n",
    "tmp = input(\"Type output directory:\")\n",
    "if tmp == '':\n",
    "    OUTPUT_DIR = '/project/ta-shared-ii/video-handel-compress/output'\n",
    "else:\n",
    "    OUTPUT_DIR = tmp\n",
    "\n",
    "print('-----Create temperary folder and output folder')\n",
    "os.makedirs(OUTPUT_DIR, exist_ok=True)\n",
    "os.makedirs('tmp',exist_ok=True)\n",
    "TMP_DIR = 'tmp'\n",
    "\n",
    "print('-----List all files from DATA_DIR with suffix in SUFFIX_LIST, find their title picture in \".png\" format')\n",
    "SUFFIX_LIST = ['.mkv', '.mp4', '.mov']\n",
    "all_files = glob(DATA_DIR+'/*.*')\n",
    "vfiles = []\n",
    "for f in all_files:\n",
    "    if re.findall(fr'{\"|\".join(SUFFIX_LIST)}',f):\n",
    "        vfiles.append(f)\n",
    "tfiles = list(\n",
    "    map(\n",
    "        lambda x: re.sub(f'{\"|\".join(SUFFIX_LIST)}', '.png', x),\n",
    "        vfiles\n",
    "    )\n",
    ")\n",
    "\n",
    "chapters = list(\n",
    "    map(\n",
    "        lambda x: x.split('/')[-1][:-4],\n",
    "        vfiles\n",
    "    )\n",
    ")\n",
    "\n",
    "print('Create title films')\n",
    "# Prepare dummy audio file\n",
    "make_frame = lambda t: 0.0\n",
    "dummy_audio = mpy.AudioClip(make_frame, duration=3.5, fps=44100) \n",
    "# Start making title films\n",
    "tmp_filename = []\n",
    "for f, ch in zip(tfiles, chapters):\n",
    "    # Title clip\n",
    "    tmp_filename.append(f'{TMP_DIR}/{ch}_title.mkv')\n",
    "    if not os.path.exists(tmp_filename[-1]):\n",
    "        tclip = mpy.ImageClip(f, duration=3.5)\n",
    "        tclip = tclip.set_audio(dummy_audio)\n",
    "        tclip.write_videofile(tmp_filename[-1], codec='libx264', fps=30, bitrate='2500K')"
   ]
  },
  {
   "cell_type": "code",
   "execution_count": null,
   "id": "2dec2bf8",
   "metadata": {},
   "outputs": [],
   "source": [
    "chapters = list(\n",
    "    map(\n",
    "        lambda x: x.split('/')[-1][:-4],\n",
    "        vfiles\n",
    "    )\n",
    ")"
   ]
  },
  {
   "cell_type": "code",
   "execution_count": null,
   "id": "e44ff240",
   "metadata": {},
   "outputs": [],
   "source": []
  }
 ],
 "metadata": {
  "kernelspec": {
   "display_name": "Python 3 (ipykernel)",
   "language": "python",
   "name": "python3"
  },
  "language_info": {
   "codemirror_mode": {
    "name": "ipython",
    "version": 3
   },
   "file_extension": ".py",
   "mimetype": "text/x-python",
   "name": "python",
   "nbconvert_exporter": "python",
   "pygments_lexer": "ipython3",
   "version": "3.7.12"
  }
 },
 "nbformat": 4,
 "nbformat_minor": 5
}
