{
 "cells": [
  {
   "cell_type": "code",
   "execution_count": null,
   "id": "64e79182",
   "metadata": {},
   "outputs": [],
   "source": [
    "!pip install moviepy\n",
    "!pip install ffmpeg-python"
   ]
  },
  {
   "cell_type": "code",
   "execution_count": null,
   "id": "59509b8e",
   "metadata": {},
   "outputs": [],
   "source": [
    "import os\n",
    "import re\n",
    "from glob import glob\n",
    "\n",
    "import moviepy.editor as mpy  # for title clip\n",
    "import ffmpeg  # watermark, concatenate (w/ for fade-in, out), produce output"
   ]
  },
  {
   "cell_type": "code",
   "execution_count": null,
   "id": "1aadc607",
   "metadata": {},
   "outputs": [],
   "source": [
    "print('Create temperary folder and output folder')\n",
    "os.makedirs('../tmp',exist_ok=True)\n",
    "os.makedirs('../output',exist_ok=True)\n",
    "TMP_DIR = '/project/ta-shared-ii/video-handel-compress/tmp'\n",
    "OUTPUT_DIR = '/project/ta-shared-ii/video-handel-compress/output'"
   ]
  },
  {
   "cell_type": "code",
   "execution_count": null,
   "id": "4dadf4e7",
   "metadata": {},
   "outputs": [],
   "source": [
    "print('List all files from DATA_DIR with suffix in SUFFIX_LIST, find their title picture in \".png\" format')\n",
    "\n",
    "SUFFIX_LIST = ['.mkv', '.mp4', '.mov']\n",
    "DATA_DIR = '/project/ta-shared-ii/video-handel-compress/data'\n",
    "all_files = glob(DATA_DIR+'/*.*')\n",
    "vfiles = []\n",
    "for f in all_files:\n",
    "    if re.findall(fr'{\"|\".join(SUFFIX_LIST)}',f):\n",
    "        vfiles.append(f)\n",
    "tfiles = list(\n",
    "    map(\n",
    "        lambda x: re.sub(f'{\"|\".join(SUFFIX_LIST)}', '.png', x),\n",
    "        vfiles\n",
    "    )\n",
    ")\n",
    "display(list(zip(vfiles,tfiles))[:3])"
   ]
  },
  {
   "cell_type": "code",
   "execution_count": null,
   "id": "37bf5ff8",
   "metadata": {},
   "outputs": [],
   "source": [
    "## 因為FFMPEG做開頭段落影像會解碼失敗，所以使用moviepy，會慢點\n",
    "\n",
    "print('Create title films')\n",
    "\n",
    "# Prepare dummy audio file\n",
    "make_frame = lambda t: 0.0\n",
    "dummy_audio = mpy.AudioClip(make_frame, duration=3.5, fps=44100) \n",
    "\n",
    "tmp_filename = []\n",
    "for f in tfiles:\n",
    "    # title clip\n",
    "    tmp_filename.append(f'{TMP_DIR}/{f.split(\"/\")[-1][:-4]}_title.mkv')\n",
    "    if not os.path.exists(tmp_filename[-1]):\n",
    "        tclip = mpy.ImageClip(f, duration=3.5)\n",
    "        tclip = tclip.set_audio(dummy_audio)\n",
    "        tclip.write_videofile(tmp_filename[-1], codec='libx264', fps=30, bitrate='2500K')"
   ]
  },
  {
   "cell_type": "code",
   "execution_count": null,
   "id": "5a931af8",
   "metadata": {},
   "outputs": [],
   "source": [
    "# 異質性video接合，並附上fade-in/ out\n",
    "\n",
    "tfile = ffmpeg.input(tmp_filename[0])\n",
    "vfile = ffmpeg.input('test.mkv')\n",
    "joined = ffmpeg.concat(tfile.video.filter_('fade', t='out', st=3.0, d=0.5),\n",
    "                       tfile.audio,\n",
    "                       vfile.video.filter_('fade', t='in', st=0, d=0.5),\n",
    "                       vfile.audio,\n",
    "                       v=1, a=1)\n",
    "out = ffmpeg.output(joined, f'{OUTPUT_DIR}/out.mp4',r=30)\n",
    "out.run()"
   ]
  },
  {
   "cell_type": "code",
   "execution_count": null,
   "id": "78bde91b",
   "metadata": {},
   "outputs": [],
   "source": [
    "# 加上watermark\n",
    "vfile = ffmpeg.input('test.mkv')\n",
    "wmfile = ffmpeg.input(DATA_DIR+'/watermark.png')\n",
    "\n",
    "fused = ffmpeg.overlay(vfile.video, wmfile)\n",
    "out = ffmpeg.output(fused, vfile.audio, f'{OUTPUT_DIR}/out2.mp4',r=30)\n",
    "out.run()"
   ]
  },
  {
   "cell_type": "code",
   "execution_count": null,
   "id": "13de084f",
   "metadata": {},
   "outputs": [],
   "source": [
    "# 先上watermark, 再做異質性video接合，並附上fade-in/ out\n",
    "tfile = ffmpeg.input(tmp_filename[0])\n",
    "vfile = ffmpeg.input('test.mkv')\n",
    "wmfile = ffmpeg.input(DATA_DIR+'/watermark.png')\n",
    "\n",
    "\n",
    "fused = ffmpeg.overlay(vfile.video, wmfile)\n",
    "\n",
    "joined = ffmpeg.concat(tfile.video.filter_('fade', t='out', st=3.0, d=0.5),\n",
    "                       tfile.audio,\n",
    "                       fused.filter_('fade', t='in', st=0, d=0.5),\n",
    "                       vfile.audio,\n",
    "                       v=1, a=1)\n",
    "out = ffmpeg.output(joined, f'{OUTPUT_DIR}/do_all.mp4',r=30)\n",
    "out.run()"
   ]
  },
  {
   "cell_type": "markdown",
   "id": "b4f755a8",
   "metadata": {},
   "source": [
    "### Template:\n",
    "- https://github.com/kkroening/ffmpeg-python/blob/master/examples/README.md\n",
    "- https://dev.to/dak425/add-fade-in-and-fade-out-effects-with-ffmpeg-2bj7"
   ]
  },
  {
   "cell_type": "code",
   "execution_count": null,
   "id": "d2d53849",
   "metadata": {},
   "outputs": [],
   "source": []
  }
 ],
 "metadata": {
  "kernelspec": {
   "display_name": "Python 3 (ipykernel)",
   "language": "python",
   "name": "python3"
  },
  "language_info": {
   "codemirror_mode": {
    "name": "ipython",
    "version": 3
   },
   "file_extension": ".py",
   "mimetype": "text/x-python",
   "name": "python",
   "nbconvert_exporter": "python",
   "pygments_lexer": "ipython3",
   "version": "3.7.12"
  }
 },
 "nbformat": 4,
 "nbformat_minor": 5
}
