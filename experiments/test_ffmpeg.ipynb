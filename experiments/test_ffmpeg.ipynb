{
 "cells": [
  {
   "cell_type": "code",
   "execution_count": null,
   "id": "d30b2eaa",
   "metadata": {},
   "outputs": [],
   "source": [
    "# !pip install ffmpeg-python"
   ]
  },
  {
   "cell_type": "code",
   "execution_count": null,
   "id": "e6f047ef",
   "metadata": {},
   "outputs": [],
   "source": [
    "import os\n",
    "import re\n",
    "from glob import glob\n",
    "\n",
    "import ffmpeg\n",
    "\n",
    "\n",
    "OUTPUT_DIR = '/project/ta-shared-ii/video-handel-compress/output'\n",
    "os.makedirs(OUTPUT_DIR, exist_ok=True)\n",
    "SUFFIX_LIST = ['.mkv', '.mp4', '.mov']\n",
    "DATA_DIR = '/project/ta-shared-ii/video-handel-compress/data'\n",
    "watermark_file = '/project/ta-shared-ii/video-handel-compress/data/watermark.png'\n"
   ]
  },
  {
   "cell_type": "code",
   "execution_count": null,
   "id": "9833624d",
   "metadata": {},
   "outputs": [],
   "source": [
    "all_files = glob(DATA_DIR+'/*.*')\n",
    "vfiles = []\n",
    "for f in all_files:\n",
    "    if re.findall(fr'{\"|\".join(SUFFIX_LIST)}',f):\n",
    "        vfiles.append(f)\n",
    "tfiles = list(\n",
    "    map(\n",
    "        lambda x: re.sub(f'{\"|\".join(SUFFIX_LIST)}', '.png', x),\n",
    "        vfiles\n",
    "    )\n",
    ")\n",
    "list(zip(vfiles,tfiles))[:5]"
   ]
  },
  {
   "cell_type": "code",
   "execution_count": null,
   "id": "4213dab0",
   "metadata": {},
   "outputs": [],
   "source": [
    "!rm -rf out.mp4\n",
    "(\n",
    "    ffmpeg\n",
    "    .input('TSRNN_Part1_3_Smoothing_title.mp4')\n",
    "    .output('out.mp4')\n",
    "    .run()\n",
    ")"
   ]
  },
  {
   "cell_type": "code",
   "execution_count": null,
   "id": "cdfa3a73",
   "metadata": {},
   "outputs": [],
   "source": []
  }
 ],
 "metadata": {
  "kernelspec": {
   "display_name": "Python 3 (ipykernel)",
   "language": "python",
   "name": "python3"
  },
  "language_info": {
   "codemirror_mode": {
    "name": "ipython",
    "version": 3
   },
   "file_extension": ".py",
   "mimetype": "text/x-python",
   "name": "python",
   "nbconvert_exporter": "python",
   "pygments_lexer": "ipython3",
   "version": "3.7.12"
  }
 },
 "nbformat": 4,
 "nbformat_minor": 5
}
