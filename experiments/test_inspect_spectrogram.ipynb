{
 "cells": [
  {
   "cell_type": "code",
   "execution_count": null,
   "id": "44c352b2",
   "metadata": {},
   "outputs": [],
   "source": [
    "import librosa"
   ]
  },
  {
   "cell_type": "code",
   "execution_count": null,
   "id": "910efe29",
   "metadata": {},
   "outputs": [],
   "source": [
    "# a,sr=librosa.load(\"../data/TSRNN_Part1_2_Naive_Forecasting.mkv\")\n",
    "a,sr=librosa.load(\"../data/try2_300.mkv\")"
   ]
  },
  {
   "cell_type": "code",
   "execution_count": null,
   "id": "4708186b",
   "metadata": {},
   "outputs": [],
   "source": [
    "a_S=librosa.power_to_db(librosa.feature.melspectrogram(a))\n",
    "# a_S=librosa.power_to_db(librosa.stft(a))"
   ]
  },
  {
   "cell_type": "code",
   "execution_count": null,
   "id": "c397c293",
   "metadata": {},
   "outputs": [],
   "source": [
    "import librosa.display as ldp"
   ]
  },
  {
   "cell_type": "code",
   "execution_count": null,
   "id": "b0038d69",
   "metadata": {},
   "outputs": [],
   "source": [
    "ldp.specshow(a_S[:,1024:1500],y_axis='mel')"
   ]
  },
  {
   "cell_type": "code",
   "execution_count": null,
   "id": "c244855c",
   "metadata": {},
   "outputs": [],
   "source": [
    "a_S.shape"
   ]
  },
  {
   "cell_type": "code",
   "execution_count": null,
   "id": "e48f881d",
   "metadata": {},
   "outputs": [],
   "source": []
  }
 ],
 "metadata": {
  "kernelspec": {
   "display_name": "Python 3 (ipykernel)",
   "language": "python",
   "name": "python3"
  },
  "language_info": {
   "codemirror_mode": {
    "name": "ipython",
    "version": 3
   },
   "file_extension": ".py",
   "mimetype": "text/x-python",
   "name": "python",
   "nbconvert_exporter": "python",
   "pygments_lexer": "ipython3",
   "version": "3.7.12"
  }
 },
 "nbformat": 4,
 "nbformat_minor": 5
}
